{
  "nbformat": 4,
  "nbformat_minor": 0,
  "metadata": {
    "colab": {
      "name": "Python with ElasticSearch.ipynb",
      "provenance": [],
      "collapsed_sections": [],
      "authorship_tag": "ABX9TyNwBd1sqj+qRLw1gdokrnXH",
      "include_colab_link": true
    },
    "kernelspec": {
      "display_name": "Python 3",
      "name": "python3"
    }
  },
  "cells": [
    {
      "cell_type": "markdown",
      "metadata": {
        "id": "view-in-github",
        "colab_type": "text"
      },
      "source": [
        "<a href=\"https://colab.research.google.com/github/rudaruda/Python-SQLAlchemy-Experience/blob/main/Python_with_ElasticSearch.ipynb\" target=\"_parent\"><img src=\"https://colab.research.google.com/assets/colab-badge.svg\" alt=\"Open In Colab\"/></a>"
      ]
    },
    {
      "cell_type": "markdown",
      "metadata": {
        "id": "jKGb3uAQ3_Cb"
      },
      "source": [
        "# **ETL ElasticSearch to PostgreSQL**"
      ]
    },
    {
      "cell_type": "markdown",
      "metadata": {
        "id": "JHxfhHdD36fC"
      },
      "source": [
        "### Importando Bibliotecas"
      ]
    },
    {
      "cell_type": "code",
      "metadata": {
        "colab": {
          "base_uri": "https://localhost:8080/"
        },
        "id": "5w_CLV-Ly--u",
        "outputId": "c9a3eeb1-9026-4020-fce3-44c76ae51a72"
      },
      "source": [
        "!pip install elasticsearch"
      ],
      "execution_count": null,
      "outputs": [
        {
          "output_type": "stream",
          "text": [
            "Collecting elasticsearch\n",
            "\u001b[?25l  Downloading https://files.pythonhosted.org/packages/72/68/76c5d46cc6a48fddb759f585bc8728caa11bfc9b812ce6705fc5f99beab2/elasticsearch-7.11.0-py2.py3-none-any.whl (325kB)\n",
            "\r\u001b[K     |█                               | 10kB 12.2MB/s eta 0:00:01\r\u001b[K     |██                              | 20kB 16.5MB/s eta 0:00:01\r\u001b[K     |███                             | 30kB 14.6MB/s eta 0:00:01\r\u001b[K     |████                            | 40kB 9.7MB/s eta 0:00:01\r\u001b[K     |█████                           | 51kB 7.7MB/s eta 0:00:01\r\u001b[K     |██████                          | 61kB 8.7MB/s eta 0:00:01\r\u001b[K     |███████                         | 71kB 8.0MB/s eta 0:00:01\r\u001b[K     |████████                        | 81kB 8.3MB/s eta 0:00:01\r\u001b[K     |█████████                       | 92kB 8.5MB/s eta 0:00:01\r\u001b[K     |██████████                      | 102kB 8.5MB/s eta 0:00:01\r\u001b[K     |███████████                     | 112kB 8.5MB/s eta 0:00:01\r\u001b[K     |████████████                    | 122kB 8.5MB/s eta 0:00:01\r\u001b[K     |█████████████                   | 133kB 8.5MB/s eta 0:00:01\r\u001b[K     |██████████████                  | 143kB 8.5MB/s eta 0:00:01\r\u001b[K     |███████████████                 | 153kB 8.5MB/s eta 0:00:01\r\u001b[K     |████████████████                | 163kB 8.5MB/s eta 0:00:01\r\u001b[K     |█████████████████               | 174kB 8.5MB/s eta 0:00:01\r\u001b[K     |██████████████████▏             | 184kB 8.5MB/s eta 0:00:01\r\u001b[K     |███████████████████▏            | 194kB 8.5MB/s eta 0:00:01\r\u001b[K     |████████████████████▏           | 204kB 8.5MB/s eta 0:00:01\r\u001b[K     |█████████████████████▏          | 215kB 8.5MB/s eta 0:00:01\r\u001b[K     |██████████████████████▏         | 225kB 8.5MB/s eta 0:00:01\r\u001b[K     |███████████████████████▏        | 235kB 8.5MB/s eta 0:00:01\r\u001b[K     |████████████████████████▏       | 245kB 8.5MB/s eta 0:00:01\r\u001b[K     |█████████████████████████▏      | 256kB 8.5MB/s eta 0:00:01\r\u001b[K     |██████████████████████████▏     | 266kB 8.5MB/s eta 0:00:01\r\u001b[K     |███████████████████████████▏    | 276kB 8.5MB/s eta 0:00:01\r\u001b[K     |████████████████████████████▏   | 286kB 8.5MB/s eta 0:00:01\r\u001b[K     |█████████████████████████████▏  | 296kB 8.5MB/s eta 0:00:01\r\u001b[K     |██████████████████████████████▏ | 307kB 8.5MB/s eta 0:00:01\r\u001b[K     |███████████████████████████████▏| 317kB 8.5MB/s eta 0:00:01\r\u001b[K     |████████████████████████████████| 327kB 8.5MB/s \n",
            "\u001b[?25hRequirement already satisfied: urllib3<2,>=1.21.1 in /usr/local/lib/python3.7/dist-packages (from elasticsearch) (1.24.3)\n",
            "Requirement already satisfied: certifi in /usr/local/lib/python3.7/dist-packages (from elasticsearch) (2020.12.5)\n",
            "Installing collected packages: elasticsearch\n",
            "Successfully installed elasticsearch-7.11.0\n"
          ],
          "name": "stdout"
        }
      ]
    },
    {
      "cell_type": "code",
      "metadata": {
        "id": "YM59dk6Uy_zx",
        "colab": {
          "base_uri": "https://localhost:8080/"
        },
        "outputId": "da100387-b74f-4b37-d3e4-0a773f8e4d2a"
      },
      "source": [
        "from elasticsearch import Elasticsearch\n",
        "\n",
        "import os, json, sys, time, re,traceback, psycopg2\n",
        "from datetime import date, datetime, time, timedelta\n",
        "\n",
        "from sqlalchemy import Text, Column, Integer, BigInteger, String, Date, DateTime, Float, Boolean, create_engine, MetaData, Table, null\n",
        "from sqlalchemy.dialects.postgresql import insert, JSON, JSONB\n",
        "from sqlalchemy.orm import scoped_session, sessionmaker\n",
        "from sqlalchemy.ext.declarative import declarative_base\n",
        "from sqlalchemy.ext.automap import automap_base\n",
        "from sqlalchemy.inspection import inspect "
      ],
      "execution_count": null,
      "outputs": [
        {
          "output_type": "stream",
          "text": [
            "/usr/local/lib/python3.7/dist-packages/psycopg2/__init__.py:144: UserWarning: The psycopg2 wheel package will be renamed from release 2.8; in order to keep installing from binary please use \"pip install psycopg2-binary\" instead. For details see: <http://initd.org/psycopg/docs/install.html#binary-install-from-pypi>.\n",
            "  \"\"\")\n"
          ],
          "name": "stderr"
        }
      ]
    },
    {
      "cell_type": "markdown",
      "metadata": {
        "id": "h5wUcayi4RhD"
      },
      "source": [
        "### Conectando Origem->Destino"
      ]
    },
    {
      "cell_type": "code",
      "metadata": {
        "colab": {
          "base_uri": "https://localhost:8080/"
        },
        "id": "3jEQzdOWzd2a",
        "outputId": "15ffcf50-d84e-4b51-a0f2-7ecebe5982f4"
      },
      "source": [
        "# Connect Elasticsearch\n",
        "try:\n",
        "  es = Elasticsearch(\n",
        "      ['https://%s/%s/?size=50&pretty' % (os.environ.get('HOST_ELASTIC'),os.environ.get('HOST_DATASET'))],\n",
        "      http_auth=(os.environ.get('HOST_ELASTIC_USER'), os.environ.get('HOST_ELASTIC_PASS')),\n",
        "      port=10202,\n",
        "  )\n",
        "  res = es.search(body={\"query\": {\"match_all\": {}}}, size=5)  # test consult\n",
        "  len(res['hits']['hits'])                                    # test json\n",
        "  print (\"Connected! with ElasticSearch\")                     # Success\n",
        "except Exception as ex:\n",
        "  print (\"Error on ElasticSearch:\", ex)                       # Fail"
      ],
      "execution_count": null,
      "outputs": [
        {
          "output_type": "stream",
          "text": [
            "Connected! with ElasticSearch\n"
          ],
          "name": "stdout"
        }
      ]
    },
    {
      "cell_type": "code",
      "metadata": {
        "colab": {
          "base_uri": "https://localhost:8080/"
        },
        "id": "6t5QfPbxSZdX",
        "outputId": "5624a67a-55e9-425b-a71c-3c527c12250b"
      },
      "source": [
        "DB_HOST, DB_PORT, DB_NAME, DB_USER, DB_PASS = os.environ.get('DB_HOST'), os.environ.get('DB_PORT'), os.environ.get('DB_NAME'), os.environ.get('DB_USER'), os.environ.get('DB_PASS')\n",
        "db = create_engine(f'postgresql://{DB_USER}:{DB_PASS}@{DB_HOST}:{DB_PORT}/{DB_NAME}')\n",
        "try:\n",
        "  conn = db.connect()\n",
        "  print (\"Connected! on PostGreSQL\")\n",
        "except Exception as ex: print (\"Error on PostGreSQL:\", ex)"
      ],
      "execution_count": null,
      "outputs": [
        {
          "output_type": "stream",
          "text": [
            "Connected! on PostGreSQL\n"
          ],
          "name": "stdout"
        }
      ]
    },
    {
      "cell_type": "code",
      "metadata": {
        "id": "A8A9k1jG89Ml"
      },
      "source": [
        "# Check Table\n",
        "metadata = MetaData(db)\n",
        "# Tabela DXC API\n",
        "tb_api = Table('tb_dxc_api', metadata,\n",
        "      Column('da_dt', Date, primary_key=True), Column('da_dthr', DateTime), Column('da_dthr_lote', String)\n",
        "      , Column('da_id', String, primary_key=True, nullable=False) #BigInteger ; Integer; autoincrement=False ; Sequence('poi_id_seq') to BIGSERIAL\n",
        "      # Basic\n",
        "      ,Column('da_requestid', String), Column('da_duration', Float), Column('da_env', String), Column('da_path', String), Column('da_endpoint', String), Column('da_platform', String)\n",
        "      # Proposal\n",
        "      ,Column('da_contractid', String), Column('da_proposal', String), Column('da_status', String), Column('da_pendencies', JSON), Column('da_errors', String), Column('da_errors_msg', String) \n",
        "      # Customer\n",
        "      ,Column('da_cpf', String), Column('da_birthday', String), Column('da_phone', String), Column('da_mobile', String), Column('da_mail', String), Column('da_mother', String)\n",
        "      # External\n",
        "      ,Column('da_externalid', String), Column('da_externalpartnerid', String), Column('da_seller', String)\n",
        "      # Postal\n",
        "      ,Column('da_postalcode', String), Column('da_postalnumber', String), Column('da_postalcomple', String)\n",
        "      ,Column('da_billpostalcode', String), Column('da_billpostalnumber', String), Column('da_billpostalcomple', String)\n",
        "      # Bank\n",
        "      ,Column('da_charge', String), Column('da_bank', String), Column('da_bankagency', String), Column('da_bankaccount', String)\n",
        "      # Offer\n",
        "      ,Column('da_offerinternet', String), Column('da_offerinternetprice', String), Column('da_offerpaytvprice', String), Column('da_offerpaytv', String), Column('da_offerphone', String), Column('da_offerphoneprice', String), Column('da_offermobile', String), Column('da_offermobileprice', String), Column('da_offer', String)\n",
        "      # JSON\n",
        "      ,Column('da_request', JSONB), Column('da_response', JSONB) \n",
        ")\n",
        "# Implement the creation ; #metadata.create_all(checkfirst=True) ; metadata.reflect() ;\n",
        "tb_api.create(checkfirst=True) #bind=engine,\n",
        "# Tabela de Controle\n",
        "tb_contr = Table('tb_control', metadata,\n",
        "      Column('co_id', BigInteger, primary_key=True, autoincrement=True)\n",
        "      ,Column('co_dthr', DateTime), Column('co_dt_ref', Date), Column('co_action', String), Column('co_info', String), Column('co_values', JSONB), Column('co_finish',Boolean)\n",
        ")\n",
        "tb_contr.create(checkfirst=True) #bind=engine,\n"
      ],
      "execution_count": null,
      "outputs": []
    },
    {
      "cell_type": "code",
      "metadata": {
        "id": "v4dsqs8EsdLj"
      },
      "source": [
        "# reflect the tables with automap\n",
        "Base = automap_base()\n",
        "Base.prepare(db, reflect=True)"
      ],
      "execution_count": null,
      "outputs": []
    },
    {
      "cell_type": "code",
      "metadata": {
        "id": "6q1s3q89pE9C"
      },
      "source": [
        "# Set Table destiny, with automapper (mapper!)\n",
        "tb_dxcapi = Base.classes.tb_dxc_api\n",
        "tb_control = Base.classes.tb_control"
      ],
      "execution_count": null,
      "outputs": []
    },
    {
      "cell_type": "code",
      "metadata": {
        "id": "VdgVenbqbrYL"
      },
      "source": [
        "# Create Session\n",
        "Session = sessionmaker(bind=db)\n",
        "s = Session()"
      ],
      "execution_count": null,
      "outputs": []
    },
    {
      "cell_type": "markdown",
      "metadata": {
        "id": "QvRasqNc4Zi4"
      },
      "source": [
        "### Criando funções"
      ]
    },
    {
      "cell_type": "code",
      "metadata": {
        "id": "yWImnlqZTYVf"
      },
      "source": [
        "def QueryOneDay(d0=1): #Schedule ONE DAY FULLY and commit\n",
        "  tt_read, tt_proposal, tt_error, tt_total = [0]*4\n",
        "  dt_day = datetime.today() - timedelta(days=d0)\n",
        "  print('QueryOneDay(%s)... %s' % (d0, dt_day.strftime('%Y-%m-%d')))\n",
        "  tt_status = True\n",
        "  jm = ['0m','15m','30m','45m']\n",
        "  hstart, mstart = 0, 0\n",
        "  if d0 < 0: sys.exit('  Please, insert day more than of \"0\"')\n",
        "  if d0 >= 0: # not only == 0\n",
        "      print('... consulta max dia ...')\n",
        "      r_query = db.execute(\"\"\"\n",
        "      select \n",
        "        -- d::date, \n",
        "        coalesce(date_part('hour', d),0) as max_h, coalesce(date_part('minute', d),0) as max_m \n",
        "        , extract(day from current_date::timestamp - cast(d as date)::timestamp) as dd \n",
        "      from ( \n",
        "        select max(da_dthr) as d from tb_dxc_api where da_dt = (current_date - interval '%s days')::date --(select max(da_dt) from tb_dxc_api) \n",
        "      ) as a; \n",
        "      \"\"\" % (d0)).fetchone()\n",
        "      try:\n",
        "        ddstart = int( int(r_query[2]))\n",
        "      except: ddstart = 0\n",
        "      if ddstart >= 0: hstart, mstart = int( r_query[0]), int( int(r_query[1]) / 15)\n",
        "  # for each Hour\n",
        "  for i in range(hstart,24): #range(24) \n",
        "    if d0 == 0 and (i) > int(datetime.now().strftime(\"%H\")) and (ddstart == 0 and hstart > 0 or hstart == 0): \n",
        "      print('...future hour...')\n",
        "      continue\n",
        "    for j, jj in enumerate(jm):\n",
        "      if mstart > 0 and mstart > j: continue # next step\n",
        "      mstart = 0\n",
        "      xh, xm = i, jj                              #hora inicial, minuto inicial\n",
        "      xmm = jm[j+1] if (j+1) < len(jm) else jm[0] #minuto final\n",
        "      xhh = i+1 if xmm == jm[0] else i            #hora final\n",
        "      xh, xhh = str(xh)+'H', str(xhh)+'H'         #formathora\n",
        "      d0x = 'now-' + str(d0) + 'd/d+' + str(xh) + '+' + str(xm) #hora inicial formatada\n",
        "      d1x = 'now-' + str(d0-1) + 'd/d' if xh == '23H' and xm == jm[-1] else 'now-' + str(d0) + 'd/d+' + str(xhh) + '+' + str(xmm) #hora final formatada\n",
        "      d1x = d1x.replace('-0d/','/').replace(\"now--1d/d\",\"now+1d/d\")\n",
        "      print('  Selecting...', d0x, d1x)\n",
        "      row_data, dt_ref, q_read, q_total, q_proposal, q_other, q_error = QueryElasticParcial(d0x,d1x, dt_day.strftime('%Y-%m-%d'))\n",
        "      tt_read+=q_read\n",
        "      tt_proposal+=q_proposal\n",
        "      tt_error+=q_error\n",
        "      tt_total+=(q_proposal+q_other)\n",
        "      tt_status = True if ((q_read == len(row_data) == q_total) * tt_status) else False\n",
        "      a = '- [Read: %s] [Error: %s] [Proposal: %s]' % (tt_read, tt_error, tt_proposal), '(%s/%s/%s : %s)' % (q_read, len(row_data), q_total, tt_status)\n",
        "      b = {'read': tt_read, 'error': tt_error, 'proposal':tt_proposal, 'sucess':tt_total, 'ok':tt_status}\n",
        "      print('   ' + ', '.join(a))\n",
        "      p = tb_control(co_dthr=datetime.now(), co_dt_ref=dt_ref, co_action='DXC to Database', co_info='%s, %s  %a' % (d0x,d1x,', '.join(a)), co_values=b, co_finish=0)\n",
        "      s.add(p)\n",
        "      s.commit()\n",
        "      if q_total > 0: UpSert(row_data,1)\n",
        "      #sys.exit()\n",
        "  print('Finish! \"QueryOneDay\" %s' % (dt_day.strftime('%Y-%m-%d')))\n",
        "  if not 'dt_ref' in vars():\n",
        "      dt_ref = datetime.now() - timedelta(days=d0)\n",
        "      dt_ref = dt_ref.date() #strftime('%m%d%y')  \n",
        "      a,b = [],[]\n",
        "  p = tb_control(co_dthr=datetime.now(), co_dt_ref=dt_ref, co_action='DXC to Database', co_info='Finish! %s' % (', '.join(a)), co_values=b, co_finish=1) #, \n",
        "  s.add(p)\n",
        "  s.commit()\n",
        "  ProcReport(dt_ref.strftime('%Y-%m-%d'))\n",
        "  return 'Completo! Date: %s' % (dt_ref.strftime('%Y-%m-%d'))"
      ],
      "execution_count": null,
      "outputs": []
    },
    {
      "cell_type": "markdown",
      "metadata": {
        "id": "4o0Ffnq34vgl"
      },
      "source": [
        "#### UpSert (the secret)"
      ]
    },
    {
      "cell_type": "code",
      "metadata": {
        "id": "LR20Q-F04H76"
      },
      "source": [
        "def UpSert(xdata,DoNotting=0): #Insert or Update row\n",
        "  # Data to DICT (mapping result)\n",
        "  row_data_map = [dict(r) for r in xdata]\n",
        "  dest_primary_keys = [key.name for key in inspect(tb_dxcapi).primary_key]\n",
        "  dest_stmt = insert(tb_dxcapi).values(row_data_map)\n",
        "  if DoNotting == 0:\n",
        "    dest_columns_update = {\n",
        "        c.name: c\n",
        "        for c in dest_stmt.excluded\n",
        "        if not c.primary_key\n",
        "    }\n",
        "    dest_upsert_stmt = dest_stmt.on_conflict_do_update(index_elements=dest_primary_keys, set_=dest_columns_update,)\n",
        "  else:\n",
        "    dest_upsert_stmt = dest_stmt.on_conflict_do_nothing(index_elements=dest_primary_keys)\n",
        "  db.execute(dest_upsert_stmt)\n",
        "\n",
        "def ProcReport(xdt): # Execute PROCEDURE DATAMART\n",
        "  print(' --! START: ProcReport', xdt)\n",
        "  connection = db.raw_connection()\n",
        "  connection.autocommit = True\n",
        "  cursor = connection.cursor()\n",
        "  try:  # Remove this\n",
        "    cursor.execute(\"\"\"CALL proc_dxc_report('%s');\"\"\" % xdt)\n",
        "  except:\n",
        "    print(\"\"\"Not possible: CALL proc_dxc_report('%s');\"\"\" % xdt)\n",
        "  cursor.close()\n",
        "  connection.commit()\n",
        "  connection.close()\n",
        "  print('  -! FINISH: ProcReport', xdt)"
      ],
      "execution_count": null,
      "outputs": []
    },
    {
      "cell_type": "markdown",
      "metadata": {
        "id": "8xzordM1460M"
      },
      "source": [
        "#### Transferindo..."
      ]
    },
    {
      "cell_type": "code",
      "metadata": {
        "id": "bPVyffp5YwFE"
      },
      "source": [
        "def QueryElasticParcial(d0x,d1x,dd): # Parse ELASTICSEARCH to PostgreSQL\n",
        "  #print('QueryParcial(',d0x,d1x,')', 'start')\n",
        "  print('  QueryParcial... Start... %s' % (dd))\n",
        "  s_timestamp = datetime.strptime(dd, \"%Y-%m-%d\")\n",
        "  row_dat, qtd_proposal, qtd_other, qtd_total, qtd_error = [], 0, 0, 0, 0\n",
        "  query_body = {\n",
        "    \"query\": { \"bool\": { \"must\": [ \n",
        "      { \"range\": { \"@timestamp\": { \"gte\": d0x, \"lt\": d1x } } }\n",
        "    ] } }\n",
        "  }\n",
        "  res = es.search(body=query_body, size=10000) #10000\n",
        "  res_count = len(res['hits']['hits']) #count row #['_shards']\n",
        "  qtd_read = len(res['hits']['hits'])\n",
        "  # row by row\n",
        "  for hit in res['hits']['hits']: \n",
        "    qtd_total+=1\n",
        "    #-- Response\n",
        "    s_id = hit['_id']\n",
        "    s_requestid = hit['_source']['$event']['requestID']\n",
        "    s_duration = hit['_source']['$event']['duration'].replace('s','')\n",
        "    s_response_status = hit['_source']['$event']['status']\n",
        "    s_env = hit['_source']['$event']['env']\n",
        "    s_timestamp = datetime.strptime(hit['_source']['@timestamp'], \"%Y-%m-%dT%H:%M:%S.%fZ\")\n",
        "    s_path = hit['_source']['$event']['path']\n",
        "    try:\n",
        "      s_endpoint = str(re.findall(r'[^\\d]+$', s_path)[0])[1:]\n",
        "    except:\n",
        "      if    s_path[:16]=='/v2/net/address/':  s_endpoint = 'address'\n",
        "      elif  s_path[:16]=='/v2/subscribers/':  s_endpoint = 'address'\n",
        "      else: s_endpoint = null()\n",
        "    # continue the basic\n",
        "    s_platform = hit['_source']['$event']['platform']\n",
        "    xcontinue01 = 1\n",
        "    s_request, s_response, s_errors, s_errors_msg = [null()]*4\n",
        "    # Set Request\n",
        "    if hit['_source']['$event']['request'] == '':\n",
        "      s_request = null()\n",
        "      xcontinue01 = 0\n",
        "    else:\n",
        "      try:\n",
        "        s_request = json.loads(hit['_source']['$event']['request'])\n",
        "      except:\n",
        "        s_request = {'error':hit['_source']['$event']['request']}\n",
        "        xcontinue01 = 0\n",
        "    # Set Response\n",
        "    if hit['_source']['$event']['response'] == '':\n",
        "      s_response = null()\n",
        "    else:\n",
        "      try:\n",
        "        s_response = json.loads(hit['_source']['$event']['response']) # print(a.keys())\n",
        "      except:\n",
        "        s_response = {'error':hit['_source']['$event']['response']}\n",
        "        xcontinue01 = 0\n",
        "    # Errors\n",
        "    if '\"errors\"' in hit['_source']['$event']['response']:\n",
        "        s_errors = s_response['errors'][0]['message']\n",
        "        if '\"returnMsg\"' in hit['_source']['$event']['response']:\n",
        "          #print('returnMsg: ',hit['_source']['$event']['response'])\n",
        "          s_errors_msg = eval(hit['_source']['$event']['response'])['errors'][0]['values']['returnMsg']\n",
        "    if 'proposal/subscriber' in s_path: xcontinue01=0\n",
        "    if not 'proposal' in s_path or xcontinue01==0:\n",
        "      qtd_other+=1\n",
        "      row_dat.append({\n",
        "          'da_id':s_id, 'da_response_status': s_response_status\n",
        "          ,'da_dt':s_timestamp.date() ,'da_dthr':s_timestamp, 'da_dthr_lote':d0x.split('/')[1]+' - '+d1x.split('/')[1]\n",
        "          # Basic\n",
        "          ,'da_requestid':s_requestid, 'da_duration':s_duration, 'da_env':s_env, 'da_path':s_path, 'da_endpoint':s_endpoint, 'da_platform':s_platform\n",
        "          # proposal\n",
        "          ,'da_contractid':None, 'da_proposal':None, 'da_status':None, 'da_pendencies':null(), 'da_errors':None, 'da_errors_msg':None\n",
        "          # Customer\n",
        "          ,'da_cpf':None, 'da_birthday':None, 'da_phone':None, 'da_mobile':None, 'da_mail':None, 'da_mother':None\n",
        "          # External\n",
        "          ,'da_externalid':None, 'da_externalpartnerid':None, 'da_seller':None\n",
        "          # Postal\n",
        "          ,'da_postalcode':None, 'da_postalnumber':None, 'da_postalcomple':None\n",
        "          ,'da_billpostalcode':None, 'da_billpostalnumber':None, 'da_billpostalcomple':None\n",
        "          # Bank\n",
        "          ,'da_charge':None, 'da_bank':None, 'da_bankagency':None, 'da_bankaccount':None\n",
        "          # Offer\n",
        "          ,'da_offerinternet':None, 'da_offerinternetprice':None, 'da_offerpaytvprice':None, 'da_offerpaytv':None\n",
        "          ,'da_offerphone':None, 'da_offerphoneprice':None, 'da_offermobile':None\n",
        "          ,'da_offermobileprice':None, 'da_offer':None\n",
        "          # JSONs\n",
        "          ,'da_request':s_request, 'da_response':s_response\n",
        "      })\n",
        "      continue\n",
        "    qtd_proposal+=1\n",
        "    # If error\n",
        "    try:\n",
        "      s_contractid, s_proposal , s_pendencies, s_pendencies = [null()]*4\n",
        "      s_status = ''\n",
        "      if '\"contract\"' in hit['_source']['$event']['response']: s_contractid = s_response['contract']['id'] \n",
        "      if '\"proposal\"' in hit['_source']['$event']['response']: \n",
        "        s_proposal, s_status = s_response['proposal']['id'], s_response['proposal']['status'] \n",
        "        if 'pendencies' in s_response['proposal']: s_pendencies = s_response['proposal']['pendencies'] if len(s_response['proposal']['pendencies'])> 0 else null()\n",
        "      #s_pendencies = json.dumps(s_pendencies)\n",
        "      #-- Request\n",
        "      s_cpf, s_birthday, s_phone, s_mobile, s_mail, s_mother, s_externalid, s_externalpartnerid, s_seller = [null()]*9\n",
        "      if '\"prospect\"' in hit['_source']['$event']['request']:\n",
        "        #print('- - -',s_request['prospect'])\n",
        "        s_phone = s_request['prospect']['phoneAreaCode'] + s_request['prospect']['phoneNumber']\n",
        "        s_mobile = null() if len(s_request['prospect']['mobileNumber']) < 1 else s_request['prospect']['mobileAreaCode'] + s_request['prospect']['mobileNumber']\n",
        "        s_mail = s_request['prospect']['email']\n",
        "        s_seller = s_request['seller']\n",
        "        if '\"cpf\"' in hit['_source']['$event']['request']: s_cpf = s_request['prospect']['cpf']\n",
        "        if '\"birthday\"' in hit['_source']['$event']['request']: s_birthday = s_request['prospect']['birthday']\n",
        "        if '\"externalID\"' in hit['_source']['$event']['request']: s_externalid = s_request['externalID']\n",
        "        if '\"externalPartnerID\"' in hit['_source']['$event']['request']: s_externalpartnerid = s_request['externalPartnerID']\n",
        "      #-- Address / Postal\n",
        "      s_postalcode, s_postalnumber, s_postalcomple, s_billpostalcode, s_billpostalnumber, s_billpostalcomple = [null()]*6\n",
        "      if 'address' in s_request:\n",
        "        s_postalcode = s_request['address']['postalcode']\n",
        "        s_postalnumber = s_request['address']['number']\n",
        "        if 'complements' in s_request['address']: s_postalcomple = s_request['address']['complements']\n",
        "        if '\"billingAddress\"' in hit['_source']['$event']['request']:\n",
        "          #print('billingAddress:', s_request['billingAddress'])\n",
        "          s_billpostalcode = s_request['billingAddress']['postalCode']\n",
        "          s_billpostalnumber = s_request['billingAddress']['number']\n",
        "          if 'complements' in s_request['billingAddress']: s_billpostalcomple = s_request['billingAddress']['complements']\n",
        "      #-- Bank\n",
        "      s_bank, s_bankagency, s_bankaccount, s_charge = [null()]*4\n",
        "      s_charge = s_request['charge']['type']\n",
        "      if '\"bankAccount\"' in hit['_source']['$event']['request']:\n",
        "        s_bank = s_request['charge']['bankAccount']['bank']\n",
        "        s_bankagency = s_request['charge']['bankAccount']['agency']\n",
        "        s_bankaccount = s_request['charge']['bankAccount']['account']+'-'+s_request['charge']['bankAccount']['digit']\n",
        "      #-- Offer\n",
        "      s_offerinternet, s_offerinternetprice, s_offerpaytv, s_offerpaytvprice, s_offerphone, s_offerphoneprice, s_offermobile, s_offermobileprice, s_offer = [null()]*9\n",
        "      s_offer = s_request['offer']['type']\n",
        "      if '\"internet\"' in hit['_source']['$event']['request']:\n",
        "        if 'internet' in s_request['offer']['products']:\n",
        "          s_offerinternet = s_request['offer']['products']['internet']['name']\n",
        "          s_offerinternetprice = s_request['offer']['products']['internet']['price']\n",
        "      if '\"paytv\"' in hit['_source']['$event']['request']:\n",
        "        s_offerpaytv = s_request['offer']['products']['paytv']['name']\n",
        "        s_offerpaytvprice = s_request['offer']['products']['paytv']['price']\n",
        "      if '\"phone\"' in hit['_source']['$event']['request']:\n",
        "        s_offerphone = s_request['offer']['products']['phone']['name']\n",
        "        s_offerphoneprice = s_request['offer']['products']['phone']['price']\n",
        "      if '\"mobile\"' in hit['_source']['$event']['request']:\n",
        "        s_offermobile = s_request['offer']['products']['mobile']['name']\n",
        "        s_offermobileprice = s_request['offer']['products']['mobile']['price']\n",
        "      # Case fix\n",
        "      if s_status == '' and len(s_errors)>0: s_status='ERROR'\n",
        "      s_status = null() if s_status=='' else s_status\n",
        "      # Print Values\n",
        "      #print(str(qtd_proposal)+'.', 'Status: \"', s_status, '\", CPF: \"', s_cpf, '\", Contract: \"', s_contractid, '\", Proposal: \"', s_proposal, '\", Pendencies: \"', s_pendencies, '\", Errors: \"', s_errors,'\"')\n",
        "      row_dat.append({\n",
        "          'da_id':s_id, 'da_response_status': s_response_status\n",
        "          ,'da_dt':s_timestamp.date() ,'da_dthr':s_timestamp, 'da_dthr_lote':d0x.split('/')[1]+' - '+d1x.split('/')[1]\n",
        "          # Basic\n",
        "          ,'da_requestid':s_requestid, 'da_duration':s_duration, 'da_env':s_env, 'da_path':s_path, 'da_endpoint':s_endpoint, 'da_platform':s_platform\n",
        "          # Proposal\n",
        "          ,'da_contractid':s_contractid, 'da_proposal':s_proposal, 'da_status':s_status, 'da_pendencies':s_pendencies, 'da_errors':s_errors, 'da_errors_msg':s_errors_msg\n",
        "          # Customer\n",
        "          ,'da_cpf':s_cpf, 'da_birthday':s_birthday, 'da_phone':s_phone, 'da_mobile':s_mobile, 'da_mail':s_mail, 'da_mother':s_mother\n",
        "          # External\n",
        "          ,'da_externalid':s_externalid, 'da_externalpartnerid':s_externalpartnerid, 'da_seller':s_seller\n",
        "          # Postal\n",
        "          ,'da_postalcode':s_postalcode, 'da_postalnumber':s_postalnumber, 'da_postalcomple':s_postalcomple\n",
        "          ,'da_billpostalcode':s_billpostalcode, 'da_billpostalnumber':s_billpostalnumber, 'da_billpostalcomple':s_billpostalcomple\n",
        "          # Bank\n",
        "          ,'da_charge':s_charge, 'da_bank':s_bank, 'da_bankagency':s_bankagency, 'da_bankaccount':s_bankaccount\n",
        "          # Offer\n",
        "          ,'da_offerinternet':s_offerinternet, 'da_offerinternetprice':s_offerinternetprice, 'da_offerpaytvprice':s_offerpaytvprice, 'da_offerpaytv':s_offerpaytv\n",
        "          ,'da_offerphone':s_offerphone, 'da_offerphoneprice':s_offerphoneprice, 'da_offermobile':s_offermobile\n",
        "          ,'da_offermobileprice':s_offermobileprice, 'da_offer':s_offer\n",
        "          # JSONs\n",
        "          ,'da_request':s_request, 'da_response':s_response\n",
        "          })\n",
        "    except Exception as ex:\n",
        "      print('! ERROR ! on line %s, \"%s\" at \"%s\":' % (qtd_total,d0x,d1x), '\\n', json.dumps(hit), '\\n', ex)\n",
        "      print(traceback.format_exc())\n",
        "      qtd_error+=1\n",
        "      sys.exit('Alert Error Here...')\n",
        "      pass\n",
        "  print('   qtd_total:', qtd_total)\n",
        "  if s_timestamp is None: s_timestamp = datetime.strptime(dd, \"%Y-%m-%d\")\n",
        "  return row_dat, s_timestamp.date(), qtd_read, qtd_total, qtd_proposal, qtd_other, qtd_error\n",
        " "
      ],
      "execution_count": null,
      "outputs": []
    },
    {
      "cell_type": "markdown",
      "metadata": {
        "id": "ia1m5OT74ei-"
      },
      "source": [
        "### Execute"
      ]
    },
    {
      "cell_type": "code",
      "metadata": {
        "colab": {
          "base_uri": "https://localhost:8080/",
          "height": 522
        },
        "id": "muzaaAfLaSJa",
        "outputId": "02adb492-df5f-4805-e624-135a503badae"
      },
      "source": [
        "QueryOneDay(0) # EXECUTE NOW\n",
        "QueryOneDay(0) # EXECUTE YESTERDAY\n",
        "#QueryParcial('now-1d/d+11H+45m','now-1d/d+12H+0m') # Testing"
      ],
      "execution_count": null,
      "outputs": [
        {
          "output_type": "stream",
          "text": [
            "QueryOneDay(0)... 2021-03-16\n",
            "... consulta max dia ...\n",
            "  Selecting... now-0d/d+15H+0m now/d+15H+15m\n",
            "  QueryParcial... Start... 2021-03-16\n",
            "   qtd_total: 5851\n",
            "   - [Read: 5851] [Error: 0] [Proposal: 82], (5851/5851/5851 : True)\n",
            "  Selecting... now-0d/d+15H+15m now/d+15H+30m\n",
            "  QueryParcial... Start... 2021-03-16\n",
            "   qtd_total: 4376\n",
            "   - [Read: 10227] [Error: 0] [Proposal: 177], (4376/4376/4376 : True)\n",
            "  Selecting... now-0d/d+15H+30m now/d+15H+45m\n",
            "  QueryParcial... Start... 2021-03-16\n",
            "   qtd_total: 3758\n",
            "   - [Read: 13985] [Error: 0] [Proposal: 260], (3758/3758/3758 : True)\n",
            "  Selecting... now-0d/d+15H+45m now/d+16H+0m\n",
            "  QueryParcial... Start... 2021-03-16\n",
            "   qtd_total: 0\n",
            "   - [Read: 13985] [Error: 0] [Proposal: 260], (0/0/0 : True)\n",
            "...future hour...\n",
            "...future hour...\n",
            "...future hour...\n",
            "...future hour...\n",
            "...future hour...\n",
            "...future hour...\n",
            "...future hour...\n",
            "...future hour...\n",
            "Finish! \"QueryOneDay\" 2021-03-16\n",
            " --! START: ProcReport 2021-03-16\n",
            "  -! FINISH: ProcReport 2021-03-16\n"
          ],
          "name": "stdout"
        },
        {
          "output_type": "execute_result",
          "data": {
            "application/vnd.google.colaboratory.intrinsic+json": {
              "type": "string"
            },
            "text/plain": [
              "'Deu certo garoto!!! data: 2021-03-16'"
            ]
          },
          "metadata": {
            "tags": []
          },
          "execution_count": 14
        }
      ]
    },
    {
      "cell_type": "markdown",
      "metadata": {
        "id": "1_82wR5A4jap"
      },
      "source": [
        "# Procedures"
      ]
    },
    {
      "cell_type": "markdown",
      "metadata": {
        "id": "YvgEH_8q-Kay"
      },
      "source": [
        "\n",
        "Procedure DataMart?\n",
        "```\n",
        "create or replace procedure proc_dxc_report( xxdt date)\n",
        "language plpgsql as $$\n",
        "declare \n",
        "\ta_count integer;\n",
        "\tb_count integer;\n",
        "\tc_count integer;\n",
        "begin\n",
        "\tdrop table if exists tb_temp_dxc_report_001;\n",
        "\tcreate temporary table tb_temp_dxc_report_001 (\n",
        "\t\tda_dt date NULL,\n",
        "\t\tda_externalpartnerid text null,\n",
        "\t\t\"EndPoint\" text NULL,\n",
        "\t\t\"ItemReport\" text NULL,\n",
        "\t\tqtd int8 NULL,\n",
        "\t\tqtd_cpf int8 NULL\n",
        "\t);\n",
        "    insert into tb_temp_dxc_report_001 ( da_dt, da_externalpartnerid, \"EndPoint\", \"ItemReport\", qtd, qtd_cpf) \n",
        "\tselect\n",
        "\t\tda_dt \n",
        "\t\t, da_externalpartnerid\n",
        "\t\t--, da_status\n",
        "\t\t, case \n",
        "\t\t\twhen da_endpoint similar to '(availability|/availability)' \tthen 'REQU.AX.01.Availability'\n",
        "\t\t\twhen da_endpoint = 'address' \t\t\t\t\t\t\t\tthen 'REQU.AX.02.Address'\n",
        "\t\t\twhen da_endpoint = 'schedule/list' \t\t\t\t\t\t\tthen 'REQU.AX.03.Schedule'\n",
        "\t\t\twhen da_endpoint = 'bank/validate' \t\t\t\t\t\t\tthen 'REQU.AX.04.Bank'\n",
        "\t\t\twhen da_endpoint = 'version' \t\t\t\t\t\t\t\tthen 'REQU.AX.05.Version'\n",
        "\t\t\twhen da_endpoint = 'status' \t\t\t\t\t\t\t\tthen 'REQU.AX.06.Status'\n",
        "\t\t\twhen da_endpoint = 'offer/prospect/validate' \t\t\t\tthen 'REQU.VE.01.offer-prospect-validade'\n",
        "\t\t\twhen da_endpoint = 'offer/subscriber/validate' \t\t\t\tthen 'REQU.VE.02.offer-subscriber-validade'\n",
        "\t\t\twhen da_endpoint = 'proposal'\t\t\t\t\t\t\t\tthen 'REQU.VE.03.Proposal'\n",
        "\t\t\twhen da_endpoint = 'subscribers'\t\t\t\t\t\t\tthen 'REQU.VE.03.Subscriber'\n",
        "\t\t\telse 'REQU.IN.01.Invalid request' end as \"EndPoint\"\t\n",
        "\t\t, case\n",
        "\t\t\twhen da_status = 'ENVIADA' \t\tthen 'AUTO.OK.01.Contrato'\n",
        "\t\t\twhen da_status = 'CANCELADA' \tthen 'AUTO.NO.02.Cancelada'\n",
        "\t\t\twhen da_status = 'ERRO ENVIO' \tthen 'PEND.RE.06.Envio contrato'\n",
        "\t\t\twhen da_status = 'ERROR' then\n",
        "\t\t\tcase\n",
        "\t\t\t\twhen da_errors like('%more than one address was found%') \t\t\t\t\t\t\t\t\t\tthen 'ERRO.EC.01.Erro complemento de endereço'\n",
        "\t\t\t\twhen da_errors similar to '(address|hp|unique postal)%' and da_errors similar to '%(encontrado|found)%'\tthen 'ERRO.EN.01.Endereço não encontrado'\n",
        "\t\t\t\twhen da_errors like('%valida%') and da_errors similar to '%(offer|oferta)%'\t\t\t\t\t\tthen 'ERRO.OU.01.Erro de Oferta'\n",
        "\t\t\t\twhen da_errors like('%portability%')\t\t\t\t\t\t\t\t\t\t\t\t\t\t\tthen 'ERRO.OU.02.Erro de Portabilidade'\n",
        "\t\t\t\twhen da_errors like('%bank%')\t\t\t\t\t\t\t\t\t\t\t\t\t\t\t\t\tthen 'ERRO.OU.03.Erro de Agencia Bancaria'\n",
        "\t\t\t\twhen da_errors like('%database%')\t\t\t\t\t\t\t\t\t\t\t\t\t\t\t\tthen 'ERRO.OU.04.Erro de Sistema'\n",
        "\t\t\t\telse 'ERRO.OU.05.Erros de dados' end -- ||da_errors \n",
        "\t\t\twhen da_status = 'PENDENTE' then\n",
        "\t\t\tcase \n",
        "\t\t\t\t-- Pendente de Agendamento\n",
        "\t\t\t\twhen da_pendencies->0->>'title'='Pendente Agendamento' \t\tthen 'PEND.PA.01.Pendente Agendamento'\n",
        "\t\t\t\t-- Restrição de Crédito\n",
        "\t\t\t\twhen da_pendencies::text like ('%Credito Interno%') \t\tthen 'PEND.RC.01.Credito Interno'\n",
        "\t\t\t\twhen da_pendencies::text like ('%Credito Externo%') \t\tthen 'PEND.RC.02.Credito Externo'\n",
        "\t\t\t\twhen da_pendencies::text like ('%Endereco Inadim%') \t\tthen 'PEND.RC.03.Endereco Inadimplente'\n",
        "\t\t\t\twhen da_pendencies::text like ('%Duplicidade de C%') \t\tthen 'PEND.RC.04.Duplicidade de CPF/CNPJ'\n",
        "\t\t\t\t-- Restrição de Endereço\n",
        "\t\t\t\twhen da_pendencies::text like ('%Endereco Existe%') \t\tthen 'PEND.RE.01.Endereco Existente'\n",
        "\t\t\t\twhen da_pendencies::text like ('%Endereco Analis%') \t\tthen 'PEND.RE.02.Endereco Analise'\n",
        "\t\t\t\twhen da_pendencies::text like ('%Outros - Endere%') \t\tthen 'PEND.RE.03.Outros - Endereco'\n",
        "\t\t\t\twhen da_pendencies::text like ('%Endere%Desabi%') \t\t\tthen 'PEND.RE.04.Endereço Desabilitado'\n",
        "\t\t\t\twhen da_pendencies::text like ('%Endere%Desc%') \t\t\tthen 'PEND.RE.05.Endereço Desc Reinstalação'\n",
        "\t\t\t\twhen da_pendencies::text like ('%Reserva%Tel%')\t\t\t\tthen 'PEND.RE.07.Reserva Telefonica'\n",
        "\t\t\t\t-- 'PEND.RE.06.Envio contrato'\n",
        "\t\t\t\telse da_pendencies->0->>'title' end\n",
        "\t\t\telse null end as \"ItemReport\" --'Other' \n",
        "\t\t, sum(1) as qtd\n",
        "\t\t, count( distinct da_cpf) as qtd_cpf\n",
        "\t\tfrom tb_dxc_api\n",
        "\t\twhere da_dt = xxdt --and da_endpoint ='proposal'\n",
        "\tgroup by 1,2,3,4;\n",
        "\t-- Add Columns\n",
        "\talter table tb_temp_dxc_report_001 add whatsapp boolean, add afiliado boolean, add wtipo text;\n",
        "\t-- Update with left join\n",
        "\tupdate tb_temp_dxc_report_001 t1 \n",
        "\tset wtipo = t2.wtipo, whatsapp=t2.whatsapp, afiliado=t2.afiliado\n",
        "\tfrom tb_depara_affiliate_id t2 \n",
        "\twhere t1.da_externalpartnerid = t2.affiliate_id;\n",
        "\t--commit;\n",
        "\t -- subtracting the amount from the sender's account \n",
        "\tdelete from tb_dxc_report where da_dt = xxdt;\n",
        "\tdelete from tb_dxc_report_breaks where da_dt = xxdt;\n",
        "\tdelete from tb_dxc_report_breaks_external_id where da_dt = xxdt;\n",
        "\t-- insert\n",
        "\t--create table tb_dxc_report as\t\n",
        "\tinsert into tb_dxc_report \n",
        "\t\t(da_dt, \"EndPoint\", \"ItemReport\", qtd, qtd_cpf)\n",
        "\tselect \n",
        "\t\tda_dt, \"EndPoint\", \"ItemReport\"\n",
        "\t\t, sum(qtd) as qtd, sum(qtd_cpf) as qtd_cpf \n",
        "\tfrom tb_temp_dxc_report_001\n",
        "\tgroup by 1,2,3;\n",
        "\tGET DIAGNOSTICS a_count = ROW_COUNT;\n",
        "\traise notice '--   Insert table \"tb_dxc_report\": %', a_count;\n",
        "\t-- insert\n",
        "\t--create table tb_dxc_report_breaks as\n",
        "\tinsert into tb_dxc_report_breaks \n",
        "\t\t(da_dt, whatsapp, afiliado, wtipo, \"EndPoint\", \"ItemReport\", qtd, qtd_cpf)\n",
        "\tselect \n",
        "\t\tda_dt, whatsapp, afiliado, wtipo, \"EndPoint\", \"ItemReport\"\n",
        "\t\t, sum(qtd) as qtd, sum(qtd_cpf) as qtd_cpf \n",
        "\tfrom tb_temp_dxc_report_001\n",
        "\tgroup by 1,2,3,4,5,6;\n",
        "\tGET DIAGNOSTICS a_count = ROW_COUNT;\n",
        "\traise notice '--   Insert table \"tb_dxc_report_breaks\": %', a_count;\n",
        "\t-- insert\n",
        "\t--create table tb_dxc_report_breaks_external_id as \n",
        "\tinsert into tb_dxc_report_breaks_external_id \n",
        "\t\t(da_dt, da_externalpartnerid, whatsapp, afiliado, wtipo, \"EndPoint\", \"ItemReport\", qtd, qtd_cpf)\n",
        "\tselect\n",
        "\t\tda_dt, da_externalpartnerid, whatsapp, afiliado, wtipo, \"EndPoint\", \"ItemReport\"\n",
        "\t\t, sum(qtd) as qtd, sum(qtd_cpf) as qtd_cpf \n",
        "\tfrom tb_temp_dxc_report_001\n",
        "\tgroup by 1,2,3,4,5,6,7;\n",
        "\tGET DIAGNOSTICS a_count = ROW_COUNT;\n",
        "\traise notice '--   Insert table \"tb_dxc_report_breaks_external_id\": %',a_count;\n",
        "\t\n",
        "end;$$\n",
        "```\n",
        "How execute?\n",
        "```\n",
        "call proc_dxc_report('20210308');\n",
        "```"
      ]
    },
    {
      "cell_type": "markdown",
      "metadata": {
        "id": "47VwFCHy-hE0"
      },
      "source": [
        "Procedure for many dates?\n",
        "```\n",
        "create or replace procedure proc_dxc_report_all( xxdt date = (current_date - interval '10 days'))\n",
        "language plpgsql as $$\n",
        "\tdeclare f record;\n",
        "begin\n",
        "\traise notice '## Start, proc_dxc_report_all';\n",
        "\tFOR f IN\n",
        "        --select da_dt from tb_dxc_api where da_dt >= xxdt group by 1 order by 1\n",
        "        select t.day::date as da_dt\n",
        "\t\tfrom generate_series(xxdt::timestamp, current_date::timestamp, interval  '1 day') AS t(day)\n",
        "\tloop\n",
        "\t\t--raise notice 'i want to print % and %', var1,var2;\n",
        "\t\traise notice '--  proc_dxc_report(%)', f.da_dt;\n",
        "\t\tcall proc_dxc_report(f.da_dt);\n",
        "\tend loop;\n",
        "end;$$\n",
        "```\n",
        "How execute?\n",
        "```\n",
        "call proc_dxc_report('20210311')\n",
        "```\n",
        "\n"
      ]
    },
    {
      "cell_type": "markdown",
      "metadata": {
        "id": "vvJ2CkxR_UWD"
      },
      "source": [
        "Visualize data\n",
        "```\n",
        "create view vw_daily_report as \n",
        "select * from (\n",
        "select\n",
        "\tda_dt\n",
        "\t, case \n",
        "\t\twhen whatsapp is true then 'Whats'\n",
        "\t\twhen afiliado is true then 'Afiliado'\n",
        "\t\telse 'Site' end as origem\t\t\t\n",
        "\t, case \n",
        "\t\twhen left(\"ItemReport\",4) = 'ERRO' or left(\"ItemReport\",4) = 'Rese'\n",
        "\t\t\tthen 'Erros'\n",
        "\t\twhen left(\"ItemReport\",4) = 'AUTO' \n",
        "\t\t\tthen 'Automação'\n",
        "\t\twhen left(\"ItemReport\",4) = 'PEND' \n",
        "\t\t\tthen 'Automação Parcial'\n",
        "\t\telse left(\"ItemReport\",4) end as \"Item\"\n",
        "\t, case \n",
        "\t\twhen left(\"ItemReport\",4) = 'AUTO' or substring(\"ItemReport\" from 6 for 2) in ('PA','EC','EN')\n",
        "\t\t\tthen null\n",
        "\t\twhen substring(\"ItemReport\" from 6 for 2) = 'RC'\n",
        "\t\t\tthen 'Crédito'\n",
        "\t\twhen substring(\"ItemReport\" from 6 for 2) = 'RE'\n",
        "\t\t\tthen 'Endereço'\n",
        "\t\twhen substring(\"ItemReport\" from 6 for 2) = 'OU'\n",
        "\t\t\tthen 'Outros erros'\n",
        "\t\telse substring(\"ItemReport\" from 6 for 2) end \n",
        "\t\tas \"ItemSub\"\n",
        "\t, case \n",
        "\t\twhen left(\"ItemReport\",4) = 'AUTO'\n",
        "\t\t\tthen right(\"ItemReport\", length(\"ItemReport\")-11)\n",
        "\t\telse\n",
        "\t\t\tright(\"ItemReport\", length(\"ItemReport\")-11) \n",
        "\t\tend as \"ItemReport\"\n",
        "\t, sum(qtd) as qtd\n",
        "from tb_dxc_report_breaks\n",
        "where\n",
        "\t\"EndPoint\" = 'REQU.VE.03.Proposal'\n",
        "group by 1,2,3,4,5\n",
        "order by 1,\"ItemReport\"\n",
        ") as b;\n",
        "```\n",
        "How view data?\n",
        "```\n",
        "select * from vw_daily_report;\n",
        "```"
      ]
    },
    {
      "cell_type": "code",
      "metadata": {
        "colab": {
          "base_uri": "https://localhost:8080/",
          "height": 35
        },
        "id": "RA50nDkDBl7O",
        "outputId": "94be0ef7-f9a0-4d62-f981-95e5640707ce"
      },
      "source": [
        "import pydot, os, graphviz\n",
        "from graphviz import Digraph, Source\n",
        "temp = \"\"\"\n",
        "digraph G{\n",
        "rankdir=LR;\n",
        "node [shape=ellipse]\n",
        "Z [label=\"API Proposal\"]\n",
        "node [shape=box]\n",
        "A [label=\"Auto\"]\n",
        "B [label=\"Pendente\"]\n",
        "C [label=\"Erro\"]\n",
        "node [shape=underline]\n",
        "Z -> {A,B,C}\n",
        "A -> {\"Contrato\",\"Cancelado\"}\n",
        "B -> {\"Agendamento\",\"Crédito\",\"Endereço\"}\n",
        "C -> {\"Complemento de End.\",\"End. Não Encontrado\",\"Outros\"}\n",
        "node [shape=plain]\n",
        "\"Outros\" -> {\"Oferta\",\"Portabilidade\",\"Agência Bancária\",\"Sistema\",\"Dados\"}\n",
        "\"Crédito\" -> {\"Interno\",\"Externo\",\"Endereço Inadimplente\", \"Duplicidade\"}\n",
        "\"Endereço\" -> {\"Erro de envio de contrato\",\"Existente\",\"Análise\",\"Outros...\",\"Desabilitado\",\"Reinstalação\",\"Reserva Telefônica\"}\n",
        "}\n",
        "\"\"\"\n",
        "s = Source(temp, format=\"png\")\n",
        "#layout= fdp,circo,neato,dot,twopi,virtual,sfdp\n",
        "#B -> L [constraint=false]\n",
        "s.view()"
      ],
      "execution_count": 7,
      "outputs": [
        {
          "output_type": "execute_result",
          "data": {
            "application/vnd.google.colaboratory.intrinsic+json": {
              "type": "string"
            },
            "text/plain": [
              "'Source.gv.png'"
            ]
          },
          "metadata": {
            "tags": []
          },
          "execution_count": 7
        }
      ]
    },
    {
      "cell_type": "markdown",
      "metadata": {
        "id": "p5RUn4fG4mwy"
      },
      "source": [
        "# Conceito de avaliação \n",
        "Por ordem de prioridade"
      ]
    },
    {
      "cell_type": "code",
      "metadata": {
        "colab": {
          "base_uri": "https://localhost:8080/",
          "height": 827
        },
        "id": "CLwXXJSyDg99",
        "outputId": "4a034cc5-14a3-4c36-fce1-70ded5e8f8c0"
      },
      "source": [
        "from IPython.display import Image\n",
        "Image('Source.gv.png')"
      ],
      "execution_count": 6,
      "outputs": [
        {
          "output_type": "execute_result",
          "data": {
            "image/png": "[encoded data removed]",
            "text/plain": [
              "<IPython.core.display.Image object>"
            ]
          },
          "metadata": {
            "tags": []
          },
          "execution_count": 6
        }
      ]
    }
  ]
}