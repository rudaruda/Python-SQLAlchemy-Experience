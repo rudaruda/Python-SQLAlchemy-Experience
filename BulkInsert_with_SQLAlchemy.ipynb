{
  "nbformat": 4,
  "nbformat_minor": 0,
  "metadata": {
    "colab": {
      "name": "BulkInsert with SQLAlchemy.ipynb",
      "provenance": [],
      "collapsed_sections": [],
      "toc_visible": true,
      "authorship_tag": "ABX9TyO9E09LqmJQVkg+T3U0NNjb",
      "include_colab_link": true
    },
    "kernelspec": {
      "display_name": "Python 3",
      "name": "python3"
    }
  },
  "cells": [
    {
      "cell_type": "markdown",
      "metadata": {
        "id": "view-in-github",
        "colab_type": "text"
      },
      "source": [
        "<a href=\"https://colab.research.google.com/github/rudaruda/Python-SQLAlchemy-Experience/blob/main/BulkInsert_with_SQLAlchemy.ipynb\" target=\"_parent\"><img src=\"https://colab.research.google.com/assets/colab-badge.svg\" alt=\"Open In Colab\"/></a>"
      ]
    },
    {
      "cell_type": "markdown",
      "metadata": {
        "id": "QiR1U0GiTJwP"
      },
      "source": [
        "# Teste de Performance com SQLAlchemy"
      ]
    },
    {
      "cell_type": "markdown",
      "metadata": {
        "id": "wpwLP2b1ANk_"
      },
      "source": [
        "Importando as bibliotecas..."
      ]
    },
    {
      "cell_type": "code",
      "metadata": {
        "id": "vfFWsBRBEfQh",
        "colab": {
          "base_uri": "https://localhost:8080/"
        },
        "outputId": "20283cc6-1523-4ec5-d043-6e092bbc4f6b"
      },
      "source": [
        "import time, psycopg2 #json, sys,  re,traceback,\r\n",
        "\r\n",
        "from sqlalchemy import Column, Integer, BigInteger, String, Date, DateTime, Float, Boolean, create_engine, MetaData, Table, null\r\n",
        "from sqlalchemy.orm import scoped_session, sessionmaker\r\n",
        "from sqlalchemy.ext.declarative import declarative_base\r\n",
        "from sqlalchemy.ext.automap import automap_base\r\n",
        "from sqlalchemy.dialects.postgresql import insert"
      ],
      "execution_count": 1,
      "outputs": [
        {
          "output_type": "stream",
          "text": [
            "/usr/local/lib/python3.7/dist-packages/psycopg2/__init__.py:144: UserWarning: The psycopg2 wheel package will be renamed from release 2.8; in order to keep installing from binary please use \"pip install psycopg2-binary\" instead. For details see: <http://initd.org/psycopg/docs/install.html#binary-install-from-pypi>.\n",
            "  \"\"\")\n"
          ],
          "name": "stderr"
        }
      ]
    },
    {
      "cell_type": "markdown",
      "metadata": {
        "id": "QzA4--gDAQdu"
      },
      "source": [
        "Conectando no banco de dados PostgreSQL na esta GCP (Google Cloud Platform)\r\n",
        "\r\n",
        "Praticamente um teste num cenário produtivo"
      ]
    },
    {
      "cell_type": "code",
      "metadata": {
        "colab": {
          "base_uri": "https://localhost:8080/"
        },
        "id": "K9oDcbYdUjs4",
        "outputId": "8f323ae5-44f2-4b2c-9f23-84ed0b823942"
      },
      "source": [
        "DB_HOST, DB_PORT, DB_NAME, DB_USER, DB_PASS = \"00.00.00.000\", \"5432\", \"bd_xxx\", \"example_user\", \"***REMOVED***\"\r\n",
        "db = create_engine(f'postgresql://{DB_USER}:{DB_PASS}@{DB_HOST}:{DB_PORT}/{DB_NAME}')\r\n",
        "try:\r\n",
        "  conn = db.connect()\r\n",
        "  print (\"Connected! on PostGreSQL\")\r\n",
        "except Exception as ex: print (\"Error on PostGreSQL:\", ex)"
      ],
      "execution_count": 2,
      "outputs": [
        {
          "output_type": "stream",
          "text": [
            "Connected! on PostGreSQL\n"
          ],
          "name": "stdout"
        }
      ]
    },
    {
      "cell_type": "markdown",
      "metadata": {
        "id": "qLyckKGqBkd9"
      },
      "source": [
        "Criando, tabela, sessão... setando metadata e automap..."
      ]
    },
    {
      "cell_type": "code",
      "metadata": {
        "id": "Iv_5VwItUnBR"
      },
      "source": [
        "# Check todos objetos do Banco\r\n",
        "metadata = MetaData(db)\r\n",
        "\r\n",
        "# Criando tabela \"tb_test_test\"\r\n",
        "new_table = Table('tb_test_test', metadata,\r\n",
        "  Column('Id', Integer, primary_key=True, autoincrement=True), Column('Date', Date), Column('Country', String) \r\n",
        ")\r\n",
        "# Commit Create Table\r\n",
        "new_table.create(checkfirst=True)"
      ],
      "execution_count": 21,
      "outputs": []
    },
    {
      "cell_type": "code",
      "metadata": {
        "id": "JcKMVgsDVH4x"
      },
      "source": [
        "# Refletindo objetivos com AUTOMAP \r\n",
        "3 # !!! muito importante para o SQLAlchemy abstrair os objetos já existentes no Banco) !!! #\r\n",
        "Base = automap_base()\r\n",
        "Base.prepare(db, reflect=True)"
      ],
      "execution_count": 22,
      "outputs": []
    },
    {
      "cell_type": "code",
      "metadata": {
        "id": "07iCrhUbkspo"
      },
      "source": [
        "# Set Table into variable, with automapper (mapper!)\r\n",
        "tb_test = Base.classes.tb_test_test\r\n",
        "\r\n",
        "# Create Session\r\n",
        "Session = sessionmaker(bind=db)\r\n",
        "s = Session()"
      ],
      "execution_count": 23,
      "outputs": []
    },
    {
      "cell_type": "markdown",
      "metadata": {
        "id": "tT2XUdCGBv3w"
      },
      "source": [
        "# Estamos prontos para o que interessa"
      ]
    },
    {
      "cell_type": "markdown",
      "metadata": {
        "id": "eveLgqqU_nAA"
      },
      "source": [
        "### 01. Executando a instrução de **Insert direto na conexão**\r\n",
        "*(esse é o jeito mais tosco, mas beleza o importante é o teste)*"
      ]
    },
    {
      "cell_type": "code",
      "metadata": {
        "colab": {
          "base_uri": "https://localhost:8080/"
        },
        "id": "iUdm2pRbv17H",
        "outputId": "6b9889d9-2c6d-4e6b-b37f-3c617cc125fa"
      },
      "source": [
        "t0 = time.time()\r\n",
        "n = 100\r\n",
        "for i in range(n):\r\n",
        "  db.execute(\"\"\"insert into tb_test_test(\"Country\", \"Date\") values ('Brasil','20210223')\"\"\")\r\n",
        "print(\"SqlAlchemy [01]: Total time for \" + str(n) + \" records \" + str(time.time() - t0) + \" secs\")"
      ],
      "execution_count": 47,
      "outputs": [
        {
          "output_type": "stream",
          "text": [
            "SqlAlchemy [01]: Total time for 100 records 35.053895711898804 secs\n"
          ],
          "name": "stdout"
        }
      ]
    },
    {
      "cell_type": "markdown",
      "metadata": {
        "id": "uGbp5-HIAl_P"
      },
      "source": [
        "### 02. Adicionando Objetos na Sessão **com flush** \r\n",
        "(para garantir cada registro)"
      ]
    },
    {
      "cell_type": "code",
      "metadata": {
        "colab": {
          "base_uri": "https://localhost:8080/"
        },
        "id": "23TPewuZVLR8",
        "outputId": "4f36937b-3591-443b-e6f1-0c69d94c0298"
      },
      "source": [
        "t0 = time.time()\r\n",
        "n = 100\r\n",
        "for i in range(n):\r\n",
        "  ins_tb_test = tb_test(Date='20210223',Country='Brasil')\r\n",
        "  s.add(ins_tb_test)\r\n",
        "  s.flush()\r\n",
        "s.commit()\r\n",
        "print(\"SqlAlchemy [02]: Total time for \" + str(n) + \" records \" + str(time.time() - t0) + \" secs\")"
      ],
      "execution_count": 48,
      "outputs": [
        {
          "output_type": "stream",
          "text": [
            "SqlAlchemy [02]: Total time for 100 records 11.971248149871826 secs\n"
          ],
          "name": "stdout"
        }
      ]
    },
    {
      "cell_type": "markdown",
      "metadata": {
        "id": "5eAKqDU-Au8J"
      },
      "source": [
        "### 03. Adicionando Objetos na Sessão **sem flush** \r\n",
        "*(só com commit no final)*"
      ]
    },
    {
      "cell_type": "code",
      "metadata": {
        "id": "OcUgqggjWrpX",
        "colab": {
          "base_uri": "https://localhost:8080/"
        },
        "outputId": "768d1ddb-2320-4315-b8d2-1e31f1c8bd0c"
      },
      "source": [
        "t0 = time.time()\r\n",
        "n = 100\r\n",
        "for i in range(n):\r\n",
        "  ins_tb_test = tb_test(Date='20210223',Country='Brasil')\r\n",
        "  s.add(ins_tb_test)\r\n",
        "s.commit()\r\n",
        "print(\"SqlAlchemy [03]: Total time for \" + str(n) + \" records \" + str(time.time() - t0) + \" secs\")"
      ],
      "execution_count": 49,
      "outputs": [
        {
          "output_type": "stream",
          "text": [
            "SqlAlchemy [03]: Total time for 100 records 11.934319257736206 secs\n"
          ],
          "name": "stdout"
        }
      ]
    },
    {
      "cell_type": "markdown",
      "metadata": {
        "id": "M-qBceYCBChr"
      },
      "source": [
        "### 04. Executando instrução de **Insert direto na sessão** \r\n",
        "*(e também com commit no final)*"
      ]
    },
    {
      "cell_type": "code",
      "metadata": {
        "colab": {
          "base_uri": "https://localhost:8080/"
        },
        "id": "aHgdKY_BYQP3",
        "outputId": "4d99513b-ed39-4ac2-9f67-d768e988c3f5"
      },
      "source": [
        "t0 = time.time()\r\n",
        "n = 100\r\n",
        "for i in range(n):\r\n",
        "  s.execute(\"\"\"insert into tb_test_test(\"Country\", \"Date\") values ('Brasil','20210223')\"\"\")\r\n",
        "s.commit()\r\n",
        "print(\"SqlAlchemy [04]: Total time for \" + str(n) + \" records \" + str(time.time() - t0) + \" secs\")"
      ],
      "execution_count": 50,
      "outputs": [
        {
          "output_type": "stream",
          "text": [
            "SqlAlchemy [04]: Total time for 100 records 11.909061431884766 secs\n"
          ],
          "name": "stdout"
        }
      ]
    },
    {
      "cell_type": "markdown",
      "metadata": {
        "id": "0CTP11bnBNRH"
      },
      "source": [
        "### 05. Adicionando todos os objetos de uma vez na sessão com **\"add_all\"**"
      ]
    },
    {
      "cell_type": "code",
      "metadata": {
        "colab": {
          "base_uri": "https://localhost:8080/"
        },
        "id": "B7gYVlnxikD8",
        "outputId": "6b41fcce-b819-4244-c073-552e7f434327"
      },
      "source": [
        "Data = []\r\n",
        "t0 = time.time()\r\n",
        "n = 100\r\n",
        "for i in range(n):\r\n",
        "  ins_tb_test = tb_test(Date='20210223',Country='Brasil') \r\n",
        "  Data.append(ins_tb_test)\r\n",
        "s.add_all(Data)\r\n",
        "s.commit()\r\n",
        "print(\"SqlAlchemy [05]: Total time for \" + str(n) + \" records \" + str(time.time() - t0) + \" secs\")"
      ],
      "execution_count": 51,
      "outputs": [
        {
          "output_type": "stream",
          "text": [
            "SqlAlchemy [05]: Total time for 100 records 11.92617416381836 secs\n"
          ],
          "name": "stdout"
        }
      ]
    },
    {
      "cell_type": "markdown",
      "metadata": {
        "id": "1lU1dLnSBRDx"
      },
      "source": [
        "### 06. Adicionando todos os objetos de uma vez na sessão com **\"bulk_save_objects\"**"
      ]
    },
    {
      "cell_type": "code",
      "metadata": {
        "colab": {
          "base_uri": "https://localhost:8080/"
        },
        "id": "ku_VTgc_fzuI",
        "outputId": "89dadb30-d60a-4fa2-e186-f45ddfcd68fa"
      },
      "source": [
        "Data = []\r\n",
        "t0 = time.time()\r\n",
        "n = 100\r\n",
        "for i in range(n):\r\n",
        "  ins_tb_test = tb_test(Date='20210223',Country='Brasil') \r\n",
        "  Data.append(ins_tb_test)\r\n",
        "s.bulk_save_objects(Data)\r\n",
        "s.commit()\r\n",
        "print(\"SqlAlchemy [06]: Total time for \" + str(n) + \" records \" + str(time.time() - t0) + \" secs\")"
      ],
      "execution_count": 52,
      "outputs": [
        {
          "output_type": "stream",
          "text": [
            "SqlAlchemy [06]: Total time for 100 records 11.886820316314697 secs\n"
          ],
          "name": "stdout"
        }
      ]
    },
    {
      "cell_type": "markdown",
      "metadata": {
        "id": "DqR9iOWNBUV7"
      },
      "source": [
        "### 07. Adicionado instrução de **Insert em bloco na sessão**\r\n"
      ]
    },
    {
      "cell_type": "code",
      "metadata": {
        "colab": {
          "base_uri": "https://localhost:8080/"
        },
        "id": "3garY3QAeGoW",
        "outputId": "192357ea-e32e-4f42-c1af-fbbb04bcd9b2"
      },
      "source": [
        "Data = []\r\n",
        "t0 = time.time()\r\n",
        "n = 100\r\n",
        "for i in range(n):\r\n",
        "  Data.append({'Country':'Brasil','Date':'20210223'})\r\n",
        "stmt=insert(tb_test,Data)\r\n",
        "s.execute(stmt)\r\n",
        "s.commit()\r\n",
        "print(\"SqlAlchemy [07]: Total time for \" + str(n) + \" records \" + str(time.time() - t0) + \" secs\")"
      ],
      "execution_count": 53,
      "outputs": [
        {
          "output_type": "stream",
          "text": [
            "SqlAlchemy [07]: Total time for 100 records 0.35940027236938477 secs\n"
          ],
          "name": "stdout"
        }
      ]
    },
    {
      "cell_type": "markdown",
      "metadata": {
        "id": "6P0puBsHB2HQ"
      },
      "source": [
        "# Conclusão\r\n",
        "\r\n",
        "> De acordo com os métodos comparados, o método que possui mais performance é o \"7. Adicionado instrução de Insert em bloco na sessão\" que realizou a ção em 0.3594 segundos (isso mesmo, menos de um segundo).\r\n",
        "\r\n",
        ">Comparado ao tempo de moda de 11 segundos ele é 30x mais rápido. Isso por porque foi possível gerenciar a performance dos commits e somado a disponibilidade de arquitetura ORM é uma ótima saída.\r\n",
        "\r\n",
        "> E sim, o SQLAlchemy tem vários métodos para fazer Update e Delete também. E sim, é possível testa-los, mas isso fica para a próxima ok?"
      ]
    }
  ]
}